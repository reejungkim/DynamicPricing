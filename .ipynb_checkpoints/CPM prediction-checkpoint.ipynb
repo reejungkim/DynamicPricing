{
 "cells": [
  {
   "cell_type": "markdown",
   "id": "4c4d1047",
   "metadata": {},
   "source": [
    "[Real time Advertiser Auction](https://www.kaggle.com/datasets/saurav9786/real-time-advertisers-auction)\n"
   ]
  },
  {
   "cell_type": "code",
   "execution_count": 2,
   "id": "50b0da7f",
   "metadata": {},
   "outputs": [],
   "source": [
    "# Add required libraries\n",
    "import pandas as pd\n",
    "import numpy as np\n",
    "import matplotlib.pyplot as plt\n",
    "import seaborn as sns \n",
    "\n",
    "#from sklearn.model_selection import train_test_split\n",
    "import xgboost as xgb\n",
    "from xgboost import plot_importance\n",
    "from sklearn.metrics import r2_score,mean_absolute_error,mean_squared_error,accuracy_score\n",
    "\n",
    "#import optuna\n",
    "seed =42 # for repeatability\n",
    "%matplotlib inline"
   ]
  },
  {
   "cell_type": "code",
   "execution_count": null,
   "id": "2c678ba7",
   "metadata": {},
   "outputs": [],
   "source": []
  }
 ],
 "metadata": {
  "kernelspec": {
   "display_name": "Python 3 (ipykernel)",
   "language": "python",
   "name": "python3"
  },
  "language_info": {
   "codemirror_mode": {
    "name": "ipython",
    "version": 3
   },
   "file_extension": ".py",
   "mimetype": "text/x-python",
   "name": "python",
   "nbconvert_exporter": "python",
   "pygments_lexer": "ipython3",
   "version": "3.7.11"
  }
 },
 "nbformat": 4,
 "nbformat_minor": 5
}
